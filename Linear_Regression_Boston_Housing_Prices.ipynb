{
  "nbformat": 4,
  "nbformat_minor": 0,
  "metadata": {
    "colab": {
      "name": "Linear Regression - Boston Housing Prices.ipynb",
      "provenance": [],
      "authorship_tag": "ABX9TyNXM46tewtV/RRMgLJOYG7J",
      "include_colab_link": true
    },
    "kernelspec": {
      "name": "python3",
      "display_name": "Python 3"
    }
  },
  "cells": [
    {
      "cell_type": "markdown",
      "metadata": {
        "id": "view-in-github",
        "colab_type": "text"
      },
      "source": [
        "<a href=\"https://colab.research.google.com/github/shreyaj-5/Linear-Regression-Python/blob/master/Linear_Regression_Boston_Housing_Prices.ipynb\" target=\"_parent\"><img src=\"https://colab.research.google.com/assets/colab-badge.svg\" alt=\"Open In Colab\"/></a>"
      ]
    },
    {
      "cell_type": "code",
      "metadata": {
        "id": "T_PpQfGLRkUg",
        "colab_type": "code",
        "colab": {}
      },
      "source": [
        "import numpy as np\n",
        "import pandas as pd\n",
        "import matplotlib \n",
        "import matplotlib.pyplot as plt\n",
        "import sklearn"
      ],
      "execution_count": 1,
      "outputs": []
    },
    {
      "cell_type": "code",
      "metadata": {
        "id": "wQI1Ow8FWYt_",
        "colab_type": "code",
        "colab": {}
      },
      "source": [
        "from sklearn.datasets import load_boston\n",
        "boston_dataset = load_boston()"
      ],
      "execution_count": 2,
      "outputs": []
    },
    {
      "cell_type": "code",
      "metadata": {
        "id": "4ASOi1qFWi78",
        "colab_type": "code",
        "colab": {}
      },
      "source": [
        "#First glance at the dataset\n",
        "print(boston_dataset.keys())\n",
        "print(boston_dataset['feature_names'])\n",
        "print(boston_dataset['DESCR'])"
      ],
      "execution_count": null,
      "outputs": []
    },
    {
      "cell_type": "code",
      "metadata": {
        "id": "HVI1d_aNXQe5",
        "colab_type": "code",
        "colab": {}
      },
      "source": [
        "#Preparing the data\n",
        "from sklearn.model_selection import train_test_split\n",
        "rooms_train, rooms_test, price_train, price_test = train_test_split(boston_dataset.data[:,5].reshape(-1,1), boston_dataset.target.reshape(-1,1))\n",
        "print(rooms_train.shape)\n",
        "print(price_train.shape)\n",
        "print(rooms_test.shape)\n",
        "print(rooms_test[0])"
      ],
      "execution_count": null,
      "outputs": []
    },
    {
      "cell_type": "code",
      "metadata": {
        "id": "aEo5U4oaYQgI",
        "colab_type": "code",
        "colab": {}
      },
      "source": [
        "#Implement linear regression model\n",
        "from sklearn.linear_model import LinearRegression\n",
        "price_room = LinearRegression()\n",
        "price_room.fit(rooms_train, price_train)"
      ],
      "execution_count": null,
      "outputs": []
    },
    {
      "cell_type": "code",
      "metadata": {
        "id": "gPTFVkqOYq3A",
        "colab_type": "code",
        "colab": {}
      },
      "source": [
        "#Prediction on the price of the rooms\n",
        "print(price_room.predict(np.array([7.564,3.543,2.450]).reshape(-1,1))) #Predict prices for the values in array\n",
        "print(price_room.predict(rooms_test[5].reshape(-1,1))) #Predict price for a single house\n",
        "print(price_room.predict(rooms_test[1:10])) #Predict prices for multiple houses\n",
        "price_pred = price_room.predict(rooms_test) #Predict prices for all data"
      ],
      "execution_count": null,
      "outputs": []
    },
    {
      "cell_type": "code",
      "metadata": {
        "id": "N5q9it7qZVaR",
        "colab_type": "code",
        "colab": {
          "base_uri": "https://localhost:8080/",
          "height": 295
        },
        "outputId": "495e9f34-5b60-4165-d8bf-1d048c5d1567"
      },
      "source": [
        "#Plot the graph for above predictions\n",
        "import matplotlib.pyplot as plt\n",
        "plt.scatter(rooms_train, price_train, color='green')\n",
        "plt.scatter(rooms_test, price_test, color='red')\n",
        "plt.scatter(rooms_test, price_pred, color='blue') #Predictions of X-Test input\n",
        "plt.plot(rooms_test, price_room.predict(rooms_test), color = 'gray') #Regression Line\n",
        "plt.title('House Prices Based on Number of Rooms')\n",
        "plt.xlabel('Number of Rooms')\n",
        "plt.ylabel('House Price')\n",
        "plt.show()"
      ],
      "execution_count": 7,
      "outputs": [
        {
          "output_type": "display_data",
          "data": {
            "image/png": "[encoded data removed]",
            "text/plain": [
              "<Figure size 432x288 with 1 Axes>"
            ]
          },
          "metadata": {
            "tags": [],
            "needs_background": "light"
          }
        }
      ]
    }
  ]
}